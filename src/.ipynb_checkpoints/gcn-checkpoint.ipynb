{
 "cells": [
  {
   "cell_type": "code",
   "execution_count": 1,
   "id": "b2571acd",
   "metadata": {},
   "outputs": [
    {
     "name": "stdout",
     "output_type": "stream",
     "text": [
      "Requirement already satisfied: torch_geometric in c:\\users\\ataka\\anaconda3\\envs\\dti_prediction\\lib\\site-packages (2.5.3)\n",
      "Requirement already satisfied: tqdm in c:\\users\\ataka\\anaconda3\\envs\\dti_prediction\\lib\\site-packages (from torch_geometric) (4.66.4)\n",
      "Requirement already satisfied: numpy in c:\\users\\ataka\\anaconda3\\envs\\dti_prediction\\lib\\site-packages (from torch_geometric) (1.26.4)\n",
      "Requirement already satisfied: scipy in c:\\users\\ataka\\anaconda3\\envs\\dti_prediction\\lib\\site-packages (from torch_geometric) (1.13.0)\n",
      "Requirement already satisfied: fsspec in c:\\users\\ataka\\anaconda3\\envs\\dti_prediction\\lib\\site-packages (from torch_geometric) (2024.3.1)\n",
      "Requirement already satisfied: jinja2 in c:\\users\\ataka\\anaconda3\\envs\\dti_prediction\\lib\\site-packages (from torch_geometric) (3.1.3)\n",
      "Requirement already satisfied: aiohttp in c:\\users\\ataka\\anaconda3\\envs\\dti_prediction\\lib\\site-packages (from torch_geometric) (3.9.5)\n",
      "Requirement already satisfied: requests in c:\\users\\ataka\\anaconda3\\envs\\dti_prediction\\lib\\site-packages (from torch_geometric) (2.31.0)\n",
      "Requirement already satisfied: pyparsing in c:\\users\\ataka\\anaconda3\\envs\\dti_prediction\\lib\\site-packages (from torch_geometric) (3.0.9)\n",
      "Requirement already satisfied: scikit-learn in c:\\users\\ataka\\anaconda3\\envs\\dti_prediction\\lib\\site-packages (from torch_geometric) (1.4.2)\n",
      "Requirement already satisfied: psutil>=5.8.0 in c:\\users\\ataka\\anaconda3\\envs\\dti_prediction\\lib\\site-packages (from torch_geometric) (5.9.0)\n",
      "Requirement already satisfied: aiosignal>=1.1.2 in c:\\users\\ataka\\anaconda3\\envs\\dti_prediction\\lib\\site-packages (from aiohttp->torch_geometric) (1.3.1)\n",
      "Requirement already satisfied: attrs>=17.3.0 in c:\\users\\ataka\\anaconda3\\envs\\dti_prediction\\lib\\site-packages (from aiohttp->torch_geometric) (23.1.0)\n",
      "Requirement already satisfied: frozenlist>=1.1.1 in c:\\users\\ataka\\anaconda3\\envs\\dti_prediction\\lib\\site-packages (from aiohttp->torch_geometric) (1.4.1)\n",
      "Requirement already satisfied: multidict<7.0,>=4.5 in c:\\users\\ataka\\anaconda3\\envs\\dti_prediction\\lib\\site-packages (from aiohttp->torch_geometric) (6.0.5)\n",
      "Requirement already satisfied: yarl<2.0,>=1.0 in c:\\users\\ataka\\anaconda3\\envs\\dti_prediction\\lib\\site-packages (from aiohttp->torch_geometric) (1.9.4)\n",
      "Requirement already satisfied: MarkupSafe>=2.0 in c:\\users\\ataka\\anaconda3\\envs\\dti_prediction\\lib\\site-packages (from jinja2->torch_geometric) (2.1.3)\n",
      "Requirement already satisfied: charset-normalizer<4,>=2 in c:\\users\\ataka\\anaconda3\\envs\\dti_prediction\\lib\\site-packages (from requests->torch_geometric) (2.0.4)\n",
      "Requirement already satisfied: idna<4,>=2.5 in c:\\users\\ataka\\anaconda3\\envs\\dti_prediction\\lib\\site-packages (from requests->torch_geometric) (3.7)\n",
      "Requirement already satisfied: urllib3<3,>=1.21.1 in c:\\users\\ataka\\anaconda3\\envs\\dti_prediction\\lib\\site-packages (from requests->torch_geometric) (2.1.0)\n",
      "Requirement already satisfied: certifi>=2017.4.17 in c:\\users\\ataka\\anaconda3\\envs\\dti_prediction\\lib\\site-packages (from requests->torch_geometric) (2024.2.2)\n",
      "Requirement already satisfied: joblib>=1.2.0 in c:\\users\\ataka\\anaconda3\\envs\\dti_prediction\\lib\\site-packages (from scikit-learn->torch_geometric) (1.4.0)\n",
      "Requirement already satisfied: threadpoolctl>=2.0.0 in c:\\users\\ataka\\anaconda3\\envs\\dti_prediction\\lib\\site-packages (from scikit-learn->torch_geometric) (2.2.0)\n",
      "Requirement already satisfied: colorama in c:\\users\\ataka\\anaconda3\\envs\\dti_prediction\\lib\\site-packages (from tqdm->torch_geometric) (0.4.6)\n"
     ]
    }
   ],
   "source": [
    "!pip install torch_geometric\n",
    "\n",
    "import torch\n",
    "from torch_geometric.nn import GATConv,GCNConv\n",
    "import torch.nn.functional as F"
   ]
  },
  {
   "cell_type": "code",
   "execution_count": null,
   "id": "9ab4c091-7bc7-4430-9fa3-4b6fe60d062e",
   "metadata": {},
   "outputs": [],
   "source": [
    "import torch\n",
    "from torch_geometric.nn import MessagePassing\n",
    "from torch_geometric.utils import add_self_loops\n",
    "class GCN(torch.nn.Module):\n",
    "    def __init__(self):\n",
    "        super().__init__()\n",
    "        self.conv1 = GCNConv(dataset.num_node_features, 16)\n",
    "        self.conv2 = GCNConv(16, dataset.num_classes)\n",
    "\n",
    "    def forward(self, data):\n",
    "        x, edge_index = data.x, data.edge_index\n",
    "\n",
    "        x = self.conv1(x, edge_index)\n",
    "        x = F.relu(x)\n",
    "        x = F.dropout(x, training=self.training)\n",
    "        x = self.conv2(x, edge_index)\n",
    "\n",
    "        return F.log_softmax(x, dim=1)\n"
   ]
  }
 ],
 "metadata": {
  "kernelspec": {
   "display_name": "Python 3 (ipykernel)",
   "language": "python",
   "name": "python3"
  },
  "language_info": {
   "codemirror_mode": {
    "name": "ipython",
    "version": 3
   },
   "file_extension": ".py",
   "mimetype": "text/x-python",
   "name": "python",
   "nbconvert_exporter": "python",
   "pygments_lexer": "ipython3",
   "version": "3.11.9"
  }
 },
 "nbformat": 4,
 "nbformat_minor": 5
}
