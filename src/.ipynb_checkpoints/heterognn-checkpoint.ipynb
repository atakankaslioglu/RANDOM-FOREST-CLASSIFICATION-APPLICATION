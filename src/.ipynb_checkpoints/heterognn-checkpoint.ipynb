{
 "cells": [
  {
   "cell_type": "code",
   "execution_count": 1,
   "id": "d872c8ba-c412-4064-a346-17479cb3a3cc",
   "metadata": {},
   "outputs": [],
   "source": [
    "import torch_geometric.transforms as T\n",
    "from torch_geometric.datasets import OGB_MAG\n",
    "from torch_geometric.nn import HeteroConv, GCNConv, SAGEConv, GATConv, Linear\n",
    "import torch\n",
    "#from torch_geometric.datasets import OGB_MAG\n",
    "#dataset = OGB_MAG(root='./data', preprocess='metapath2vec', transform=T.ToUndirected())\n",
    "#data = dataset[0]\n",
    "#data\n"
   ]
  },
  {
   "cell_type": "code",
   "execution_count": 2,
   "id": "b5b20e69-c2a8-4cad-9522-d87e9a6eb5b2",
   "metadata": {},
   "outputs": [],
   "source": [
    "class HetGNN(torch.nn.Module):\n",
    "    def __init__(self,hidden_channels, out_channels, num_layers,num_heads,n_proteins,n_drugs,n_diseases):\n",
    "        super().__init__()\n",
    "        \n",
    "        # Define heterogeneous convolution layers with metadata\n",
    "        self.convs = torch.nn.ModuleList()\n",
    "        for _ in range(num_layers):\n",
    "            conv = HeteroConv({\n",
    "                #('drug', 'effects', 'drug'): GATConv(-1, hidden_channels,add_self_loops=False),\n",
    "                ('drug', 'interacts', 'protein'): GATConv((n_drugs,n_proteins), hidden_channels,add_self_loops=False),\n",
    "               # ('drug', 'interacts', 'disease'): GATConv((n_drugs,n_diseases), hidden_channels, heads=num_heads,add_self_loops=False),\n",
    "                ('protein', 'interacts', 'disease'): GATConv((n_proteins,n_diseases), hidden_channels, heads=num_heads,add_self_loops=False),\n",
    "            }, aggr='sum')  \n",
    "            self.convs.append(conv)\n",
    "        self.lin = Linear(hidden_channels, out_channels)\n",
    "\n",
    "    def forward(self, x_dict, edge_index_dict):\n",
    "        for conv in self.convs:\n",
    "            x_dict = conv(x_dict, edge_index_dict)\n",
    "            x_dict = {key: x.relu() for key, x in x_dict.items()}\n",
    "        return self.lin(x_dict['drug'])\n"
   ]
  },
  {
   "cell_type": "code",
   "execution_count": null,
   "id": "9ae52680-c799-4882-b596-d1a329d35c90",
   "metadata": {},
   "outputs": [],
   "source": []
  }
 ],
 "metadata": {
  "kernelspec": {
   "display_name": "Python 3 (ipykernel)",
   "language": "python",
   "name": "python3"
  },
  "language_info": {
   "codemirror_mode": {
    "name": "ipython",
    "version": 3
   },
   "file_extension": ".py",
   "mimetype": "text/x-python",
   "name": "python",
   "nbconvert_exporter": "python",
   "pygments_lexer": "ipython3",
   "version": "3.11.9"
  }
 },
 "nbformat": 4,
 "nbformat_minor": 5
}
