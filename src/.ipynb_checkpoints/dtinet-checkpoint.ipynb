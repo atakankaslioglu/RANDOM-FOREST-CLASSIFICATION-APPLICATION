{
 "cells": [
  {
   "cell_type": "code",
   "execution_count": null,
   "id": "e9b4b459-5a93-4bbd-b919-1978c072583e",
   "metadata": {},
   "outputs": [],
   "source": [
    "drug_protein_matrix = torch.tensor(drug_protein_matrix,dtype=torch.float32)\n",
    "drug_disease_matrix = torch.tensor(drug_disease_matrix,dtype=torch.float32)\n",
    "protein_disease_matrix = torch.tensor(protein_disease_matrix,dtype=torch.float32)\n",
    "drug_drug_matrix = torch.tensor(drug_drug_matrix,dtype=torch.float32)\n",
    "protein_drug_matrix = torch.tensor(protein_drug_matrix,dtype=torch.float32)\n",
    "drug_similarities = torch.tensor(drug_similarities,dtype=torch.float32)\n",
    "protein_similarities = torch.tensor(protein_similarities,dtype=torch.float32)\n",
    "drug_feature_vector = torch.tensor(drug_feature_vector,dtype=torch.float32)\n",
    "protein_feature_vector = torch.tensor(protein_feature_vector,dtype=torch.float32)"
   ]
  },
  {
   "cell_type": "code",
   "execution_count": null,
   "id": "f1c0a4e2-8138-4604-8721-f2570d6d3f10",
   "metadata": {},
   "outputs": [],
   "source": [
    "from torch_geometric.data import HeteroData\n",
    "import torch_geometric.transforms as T\n",
    "data = HeteroData()\n",
    "data[\"protein\"].x=protein_feature_vector\n",
    "data[\"protein\"].num_nodes=len(protein_feature_vector)\n",
    "data[\"drug\"].x=drug_feature_vector\n",
    "data[\"drug\"].num_nodes=len(drug_feature_vector)\n",
    "\n",
    "data[\"drug\"].node_id = torch.arange(len(drugs))\n",
    "data[\"protein\"].node_id = torch.arange(len(proteins))\n",
    "\n",
    "drug_edge_index = drug_similarities.nonzero().t().contiguous()\n",
    "protein_edge_index = protein_similarities.nonzero().t().contiguous()\n",
    "interaction_edge_index = drug_protein_matrix.nonzero().t().contiguous()\n",
    "\n",
    "data[\"drug\",\"resemble\",\"drug\"].edge_index =  drug_similarities.nonzero().t().contiguous()\n",
    "data[\"protein\",\"resemble\",\"protein\"].edge_index = protein_similarities.nonzero().t().contiguous()\n",
    "data[\"drug\",\"interact\",\"protein\"].edge_index =drug_protein_matrix.nonzero().t().contiguous()\n",
    "#data[\"protein\",\"interact\",\"drug\"].edge_index =protein_drug_matrix.nonzero().t().contiguous()\n",
    "\n",
    "import math\n",
    "#train spilt\n",
    "train_protein_size = math.ceil(len(proteins)*0.66)\n",
    "train_drug_size = math.ceil(len(drugs)*0.66)\n",
    "train_disease_size = math.ceil(len(diseases)*0.66)\n",
    "train_drug_drug_matrix = drug_drug_matrix[0:train_drug_size,0:train_drug_size]\n",
    "train_drug_protein_matrix = drug_protein_matrix[0:train_drug_size,0:train_protein_size]\n",
    "train_drug_disease_matrix = drug_disease_matrix[0:train_drug_size,0:train_disease_size]\n",
    "train_protein_disease_matrix = protein_disease_matrix[0:train_protein_size,0:train_disease_size]\n",
    "train_protein_drug_matrix = protein_drug_matrix[0:train_protein_size,0:train_drug_size]\n",
    "train_drug_similarities = drug_similarities[0:train_drug_size,0:train_drug_size]\n",
    "train_protein_similarities = protein_similarities[0:train_protein_size,0:train_protein_size] / 100\n",
    "train_proteins = proteins[0:train_protein_size]\n",
    "train_drugs = drugs[0:train_drug_size]\n",
    "train_diseases = diseases[0:train_drug_size]\n",
    "train_drug_feature_vector = drug_feature_vector[0:train_drug_size]\n",
    "train_protein_feature_vector = protein_feature_vector[0:train_protein_size]\n",
    "#test split\n",
    "test_drug_protein_matrix = drug_protein_matrix[train_drug_size+1:len(drugs)-1,train_protein_size+1:len(proteins)-1]\n",
    "test_protein_drug_matrix = protein_drug_matrix[train_protein_size+1:len(proteins)-1,train_drug_size+1:len(drugs)-1]\n",
    "test_protein_disease_matrix = protein_disease_matrix[train_protein_size+1:len(proteins)-1,train_disease_size+1:len(diseases)-1]\n",
    "test_drug_disease_matrix = drug_disease_matrix[train_drug_size+1:len(drugs)-1,train_disease_size+1:len(diseases)-1]\n",
    "test_drug_drug_matrix = drug_drug_matrix[train_drug_size+1:len(drugs)-1,train_drug_size+1:len(drugs)-1]\n",
    "test_drug_similarities = drug_similarities[train_drug_size+1:len(drugs)-1,train_drug_size+1:len(drugs)-1]\n",
    "test_protein_similarities = protein_similarities[train_protein_size+1:len(proteins)-1,train_protein_size+1:len(proteins)-1] / 100\n",
    "test_proteins = proteins[train_protein_size+1:len(proteins)-1]\n",
    "test_drugs = drugs[train_drug_size+1:len(drugs)-1]\n",
    "test_diseases=diseases[train_disease_size+1:len(diseases)-1]\n",
    "test_protein_feature_vector = protein_feature_vector[train_protein_size+1:len(proteins)-1]\n",
    "test_drug_feature_vector = drug_feature_vector[train_drug_size+1:len(drugs)-1]\n",
    "#train_drug_protein_matrix=train_drug_protein_matrix.to_sparse()\n",
    "#train_protein_drug_matrix=train_protein_drug_matrix.to_sparse()\n",
    "#test_protein_drug_matrix=test_protein_drug_matrix.to_sparse()\n",
    "#test_drug_protein_matrix=test_drug_protein_matrix.to_sparse()"
   ]
  }
 ],
 "metadata": {
  "kernelspec": {
   "display_name": "Python 3 (ipykernel)",
   "language": "python",
   "name": "python3"
  },
  "language_info": {
   "codemirror_mode": {
    "name": "ipython",
    "version": 3
   },
   "file_extension": ".py",
   "mimetype": "text/x-python",
   "name": "python",
   "nbconvert_exporter": "python",
   "pygments_lexer": "ipython3",
   "version": "3.11.9"
  }
 },
 "nbformat": 4,
 "nbformat_minor": 5
}
